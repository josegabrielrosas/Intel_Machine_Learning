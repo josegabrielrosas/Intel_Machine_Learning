{
 "cells": [
  {
   "cell_type": "markdown",
   "metadata": {},
   "source": [
    "### Feature Scaling: The Syntax"
   ]
  },
  {
   "cell_type": "code",
   "execution_count": null,
   "metadata": {},
   "outputs": [],
   "source": [
    "#Import the class containing the SCALING method\n",
    "from sklearn.preprocessing import StandardScaler \n",
    "\n",
    "#Create an instance of the class\n",
    "StdSc = StandardScaler()\n",
    "\n",
    "#Fit the scaling parameters and then transform the data\n",
    "StdSc = StdSc.fit(X_data)\n",
    "X_scaled = KNN.transform(X_data)"
   ]
  },
  {
   "cell_type": "markdown",
   "metadata": {},
   "source": [
    "### K Nearest Neighbors Classification: The Syntax"
   ]
  },
  {
   "cell_type": "code",
   "execution_count": null,
   "metadata": {},
   "outputs": [],
   "source": [
    "#Import the class containing the CLASSIFICATION method\n",
    "from sklearn.neighbors import KNeighborsClassifier\n",
    "\n",
    "#Create an instance of the class\n",
    "KNN = KNeighborsClassifier(n_neighbors=3)\n",
    "\n",
    "#Fit the instance on the data and then predict the expected value\n",
    "KNN = KNN.fit(X_data,y_data)\n",
    "y_predict = KNN.predict(X_data)"
   ]
  },
  {
   "cell_type": "code",
   "execution_count": null,
   "metadata": {},
   "outputs": [],
   "source": []
  }
 ],
 "metadata": {
  "kernelspec": {
   "display_name": "Python 3",
   "language": "python",
   "name": "python3"
  },
  "language_info": {
   "codemirror_mode": {
    "name": "ipython",
    "version": 3
   },
   "file_extension": ".py",
   "mimetype": "text/x-python",
   "name": "python",
   "nbconvert_exporter": "python",
   "pygments_lexer": "ipython3",
   "version": "3.8.8"
  }
 },
 "nbformat": 4,
 "nbformat_minor": 2
}
