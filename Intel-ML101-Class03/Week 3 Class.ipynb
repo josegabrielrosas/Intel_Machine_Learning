{
 "cells": [
  {
   "cell_type": "markdown",
   "metadata": {},
   "source": [
    "### Train and Test Splitting: The Syntax"
   ]
  },
  {
   "cell_type": "code",
   "execution_count": null,
   "metadata": {},
   "outputs": [],
   "source": [
    "#Import the train and set split function\n",
    "from sklearn.model_selection import train_test_split\n",
    "#Split the data and put 30% into the test set\n",
    "train, test = train_test_split(data, test_size=0.3)\n",
    "#Other method for splitting data\n",
    "from sklearn.model_selection import ShuffleSplit"
   ]
  },
  {
   "cell_type": "markdown",
   "metadata": {},
   "source": [
    "### Cross Validation: The Syntax"
   ]
  },
  {
   "cell_type": "code",
   "execution_count": null,
   "metadata": {},
   "outputs": [],
   "source": [
    "#Import the train and test split function\n",
    "from sklearn.model_selection import cross_val_score\n",
    "\n",
    "#Perform cross-validation with a given model\n",
    "cross_val = cross_val_score(KNN,X_data,y_data,cv=4,\n",
    "                           scoring='neg_mean_squared_error')\n",
    "#Other methods for cross validation\n",
    "from sklearn.model_selection import KFold, StratifiedKFold"
   ]
  },
  {
   "cell_type": "markdown",
   "metadata": {},
   "source": [
    "### Linear Regression: The Syntax"
   ]
  },
  {
   "cell_type": "code",
   "execution_count": null,
   "metadata": {},
   "outputs": [],
   "source": [
    "#Import the class containing the regression method\n",
    "from sklearn.linear_model import LinearRegression\n",
    "\n",
    "#Create an instance of the class\n",
    "LR = LinearRegression()\n",
    "\n",
    "#Fit the instance on the data and then predict the expected value\n",
    "LR = LR.fit(X_train,y_train)\n",
    "y_predict = LR.predict(X_test)"
   ]
  },
  {
   "cell_type": "markdown",
   "metadata": {},
   "source": [
    "### Polynomial Features: The Syntax"
   ]
  },
  {
   "cell_type": "code",
   "execution_count": null,
   "metadata": {},
   "outputs": [],
   "source": [
    "#Import the class containing the regression method\n",
    "from sklearn.preprocessing import PolynomialFeatures\n",
    "\n",
    "#Create an instance of the class\n",
    "polyFeat = PolynomialFeatures(degree=2)\n",
    "\n",
    "#Create the polynomial features and then transform the data\n",
    "polyFeat = polyFeat.fit(X_data,y_data)\n",
    "x_poly = polyFeat.transform(X_data)"
   ]
  },
  {
   "cell_type": "code",
   "execution_count": null,
   "metadata": {},
   "outputs": [],
   "source": []
  }
 ],
 "metadata": {
  "kernelspec": {
   "display_name": "Python 3",
   "language": "python",
   "name": "python3"
  },
  "language_info": {
   "codemirror_mode": {
    "name": "ipython",
    "version": 3
   },
   "file_extension": ".py",
   "mimetype": "text/x-python",
   "name": "python",
   "nbconvert_exporter": "python",
   "pygments_lexer": "ipython3",
   "version": "3.7.3"
  }
 },
 "nbformat": 4,
 "nbformat_minor": 2
}
