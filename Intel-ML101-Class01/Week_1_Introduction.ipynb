{
 "cells": [
  {
   "cell_type": "code",
   "execution_count": 6,
   "id": "9b289525",
   "metadata": {},
   "outputs": [],
   "source": [
    "import pandas as pd"
   ]
  },
  {
   "cell_type": "code",
   "execution_count": 4,
   "id": "ee44c0c6",
   "metadata": {},
   "outputs": [],
   "source": [
    "cycling_data = [10.7, 0, None, 2.4, 15.3, 10.9, 0, None]\n",
    "step_data = [3620, 7891, 9761, 3907, 4338, 5373]"
   ]
  },
  {
   "cell_type": "code",
   "execution_count": 5,
   "id": "3f92f29f",
   "metadata": {},
   "outputs": [],
   "source": [
    "joined_data = list(zip(step_data, cycling_data))"
   ]
  },
  {
   "cell_type": "code",
   "execution_count": 8,
   "id": "5c35e961",
   "metadata": {},
   "outputs": [],
   "source": [
    "activity_df = pd.DataFrame(joined_data)"
   ]
  },
  {
   "cell_type": "code",
   "execution_count": 9,
   "id": "be9fe3be",
   "metadata": {},
   "outputs": [
    {
     "data": {
      "text/html": [
       "<div>\n",
       "<style scoped>\n",
       "    .dataframe tbody tr th:only-of-type {\n",
       "        vertical-align: middle;\n",
       "    }\n",
       "\n",
       "    .dataframe tbody tr th {\n",
       "        vertical-align: top;\n",
       "    }\n",
       "\n",
       "    .dataframe thead th {\n",
       "        text-align: right;\n",
       "    }\n",
       "</style>\n",
       "<table border=\"1\" class=\"dataframe\">\n",
       "  <thead>\n",
       "    <tr style=\"text-align: right;\">\n",
       "      <th></th>\n",
       "      <th>0</th>\n",
       "      <th>1</th>\n",
       "    </tr>\n",
       "  </thead>\n",
       "  <tbody>\n",
       "    <tr>\n",
       "      <th>0</th>\n",
       "      <td>3620</td>\n",
       "      <td>10.7</td>\n",
       "    </tr>\n",
       "    <tr>\n",
       "      <th>1</th>\n",
       "      <td>7891</td>\n",
       "      <td>0.0</td>\n",
       "    </tr>\n",
       "    <tr>\n",
       "      <th>2</th>\n",
       "      <td>9761</td>\n",
       "      <td>NaN</td>\n",
       "    </tr>\n",
       "    <tr>\n",
       "      <th>3</th>\n",
       "      <td>3907</td>\n",
       "      <td>2.4</td>\n",
       "    </tr>\n",
       "    <tr>\n",
       "      <th>4</th>\n",
       "      <td>4338</td>\n",
       "      <td>15.3</td>\n",
       "    </tr>\n",
       "    <tr>\n",
       "      <th>5</th>\n",
       "      <td>5373</td>\n",
       "      <td>10.9</td>\n",
       "    </tr>\n",
       "  </tbody>\n",
       "</table>\n",
       "</div>"
      ],
      "text/plain": [
       "      0     1\n",
       "0  3620  10.7\n",
       "1  7891   0.0\n",
       "2  9761   NaN\n",
       "3  3907   2.4\n",
       "4  4338  15.3\n",
       "5  5373  10.9"
      ]
     },
     "execution_count": 9,
     "metadata": {},
     "output_type": "execute_result"
    }
   ],
   "source": [
    "activity_df"
   ]
  },
  {
   "cell_type": "code",
   "execution_count": 10,
   "id": "976a3248",
   "metadata": {},
   "outputs": [
    {
     "data": {
      "text/html": [
       "<div>\n",
       "<style scoped>\n",
       "    .dataframe tbody tr th:only-of-type {\n",
       "        vertical-align: middle;\n",
       "    }\n",
       "\n",
       "    .dataframe tbody tr th {\n",
       "        vertical-align: top;\n",
       "    }\n",
       "\n",
       "    .dataframe thead th {\n",
       "        text-align: right;\n",
       "    }\n",
       "</style>\n",
       "<table border=\"1\" class=\"dataframe\">\n",
       "  <thead>\n",
       "    <tr style=\"text-align: right;\">\n",
       "      <th></th>\n",
       "      <th>Walking</th>\n",
       "      <th>Cycling</th>\n",
       "    </tr>\n",
       "  </thead>\n",
       "  <tbody>\n",
       "    <tr>\n",
       "      <th>2015-03-29</th>\n",
       "      <td>3620</td>\n",
       "      <td>10.7</td>\n",
       "    </tr>\n",
       "    <tr>\n",
       "      <th>2015-03-30</th>\n",
       "      <td>7891</td>\n",
       "      <td>0.0</td>\n",
       "    </tr>\n",
       "    <tr>\n",
       "      <th>2015-03-31</th>\n",
       "      <td>9761</td>\n",
       "      <td>NaN</td>\n",
       "    </tr>\n",
       "    <tr>\n",
       "      <th>2015-04-01</th>\n",
       "      <td>3907</td>\n",
       "      <td>2.4</td>\n",
       "    </tr>\n",
       "    <tr>\n",
       "      <th>2015-04-02</th>\n",
       "      <td>4338</td>\n",
       "      <td>15.3</td>\n",
       "    </tr>\n",
       "    <tr>\n",
       "      <th>2015-04-03</th>\n",
       "      <td>5373</td>\n",
       "      <td>10.9</td>\n",
       "    </tr>\n",
       "  </tbody>\n",
       "</table>\n",
       "</div>"
      ],
      "text/plain": [
       "            Walking  Cycling\n",
       "2015-03-29     3620     10.7\n",
       "2015-03-30     7891      0.0\n",
       "2015-03-31     9761      NaN\n",
       "2015-04-01     3907      2.4\n",
       "2015-04-02     4338     15.3\n",
       "2015-04-03     5373     10.9"
      ]
     },
     "execution_count": 10,
     "metadata": {},
     "output_type": "execute_result"
    }
   ],
   "source": [
    "activity_df = pd.DataFrame(joined_data, index = pd.date_range('20150329', periods = 6),\n",
    "                          columns = ['Walking','Cycling'])\n",
    "activity_df"
   ]
  },
  {
   "cell_type": "code",
   "execution_count": 11,
   "id": "ce28153a",
   "metadata": {},
   "outputs": [
    {
     "data": {
      "text/plain": [
       "Walking    3907.0\n",
       "Cycling       2.4\n",
       "Name: 2015-04-01 00:00:00, dtype: float64"
      ]
     },
     "execution_count": 11,
     "metadata": {},
     "output_type": "execute_result"
    }
   ],
   "source": [
    "activity_df.loc['2015-04-01']"
   ]
  },
  {
   "cell_type": "code",
   "execution_count": 12,
   "id": "dce097d4",
   "metadata": {},
   "outputs": [
    {
     "data": {
      "text/plain": [
       "Walking    3907.0\n",
       "Cycling       2.4\n",
       "Name: 2015-04-01 00:00:00, dtype: float64"
      ]
     },
     "execution_count": 12,
     "metadata": {},
     "output_type": "execute_result"
    }
   ],
   "source": [
    "activity_df.iloc[-3]"
   ]
  },
  {
   "cell_type": "code",
   "execution_count": 13,
   "id": "978a2c85",
   "metadata": {},
   "outputs": [
    {
     "data": {
      "text/plain": [
       "2015-03-29    3620\n",
       "2015-03-30    7891\n",
       "2015-03-31    9761\n",
       "2015-04-01    3907\n",
       "2015-04-02    4338\n",
       "2015-04-03    5373\n",
       "Freq: D, Name: Walking, dtype: int64"
      ]
     },
     "execution_count": 13,
     "metadata": {},
     "output_type": "execute_result"
    }
   ],
   "source": [
    "activity_df['Walking']"
   ]
  },
  {
   "cell_type": "code",
   "execution_count": 33,
   "id": "ba8ac71a",
   "metadata": {},
   "outputs": [
    {
     "data": {
      "text/plain": [
       "2015-03-29    3620\n",
       "2015-03-30    7891\n",
       "2015-03-31    9761\n",
       "2015-04-01    3907\n",
       "2015-04-02    4338\n",
       "2015-04-03    5373\n",
       "Freq: D, Name: Walking, dtype: int64"
      ]
     },
     "execution_count": 33,
     "metadata": {},
     "output_type": "execute_result"
    }
   ],
   "source": [
    "activity_df.iloc[:,0]"
   ]
  },
  {
   "cell_type": "code",
   "execution_count": null,
   "id": "e8f52887",
   "metadata": {},
   "outputs": [],
   "source": []
  }
 ],
 "metadata": {
  "kernelspec": {
   "display_name": "Python 3",
   "language": "python",
   "name": "python3"
  },
  "language_info": {
   "codemirror_mode": {
    "name": "ipython",
    "version": 3
   },
   "file_extension": ".py",
   "mimetype": "text/x-python",
   "name": "python",
   "nbconvert_exporter": "python",
   "pygments_lexer": "ipython3",
   "version": "3.8.8"
  }
 },
 "nbformat": 4,
 "nbformat_minor": 5
}
